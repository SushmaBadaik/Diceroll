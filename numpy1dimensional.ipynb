{
  "nbformat": 4,
  "nbformat_minor": 0,
  "metadata": {
    "colab": {
      "provenance": [],
      "authorship_tag": "ABX9TyP8yKdELanTHF0Y9WOP8GOK",
      "include_colab_link": true
    },
    "kernelspec": {
      "name": "python3",
      "display_name": "Python 3"
    },
    "language_info": {
      "name": "python"
    }
  },
  "cells": [
    {
      "cell_type": "markdown",
      "metadata": {
        "id": "view-in-github",
        "colab_type": "text"
      },
      "source": [
        "<a href=\"https://colab.research.google.com/github/SushmaBadaik/Diceroll/blob/main/numpy1dimensional.ipynb\" target=\"_parent\"><img src=\"https://colab.research.google.com/assets/colab-badge.svg\" alt=\"Open In Colab\"/></a>"
      ]
    },
    {
      "cell_type": "code",
      "execution_count": 3,
      "metadata": {
        "colab": {
          "base_uri": "https://localhost:8080/"
        },
        "id": "bht153Lv4LGD",
        "outputId": "ef6308b6-f256-43aa-90e6-9b328d16d691"
      },
      "outputs": [
        {
          "output_type": "stream",
          "name": "stdout",
          "text": [
            "original_list [12.23, 13.32, 100, 36, 32]\n",
            "1_dimensional numpy array [ 12.23  13.32 100.    36.    32.  ]\n"
          ]
        }
      ],
      "source": [
        "import numpy as np\n",
        "list=[12.23,13.32,100,36,32]\n",
        "print(\"original_list\",list)\n",
        "a=np.array(list)\n",
        "print(\"1_dimensional numpy array\",a)"
      ]
    },
    {
      "cell_type": "code",
      "source": [],
      "metadata": {
        "id": "QnAyySBB6PDe"
      },
      "execution_count": null,
      "outputs": []
    }
  ]
}